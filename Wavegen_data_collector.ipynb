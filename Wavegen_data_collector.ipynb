{
 "cells": [
  {
   "cell_type": "code",
   "execution_count": null,
   "metadata": {},
   "outputs": [],
   "source": [
    "import numpy as np\n",
    "from numpy import pi  \n",
    "import pyvisa as visa \n",
    "import matplotlib.pyplot as plt \n",
    "import numpy as np \n",
    "\n",
    "\n",
    "rm = visa.ResourceManager() \n",
    "inst= rm.list_resources()\n",
    "rigol_wavegen =rm.open_resource('USB0::0x1AB1::0x0641::DG4E232100668::INSTR') \n",
    "period = 1\n",
    "\n",
    "rigol_wavegen.write(\"OUTPUT1 ON\") \n",
    "\n",
    "rigol_wavegen.write(\"SOURCE1:TRACE:DATA VOLATILE,0.1,0.2,0.3,0.4\") \n",
    "rigol_wavegen.write(\"SOURCE1:VOLTAGE:UNIT VPP\") \n",
    "print(rigol_wavegen.query(\"SOURCE1:VOLTAGE:UNIT?\"))  \n",
    "rigol_wavegen.write(\"SOURCE1:PERIOD {:f}\".format(period))   \n",
    "rigol_wavegen.write(\"SOURCE1:BURSt:TRIGger:SOURce INT\")  \n",
    "rigol_wavegen.write(\"SOURCE1:BURSt ON\") \n",
    "print(rigol_wavegen.query(\"SOURCE1:BURST?\"))\n",
    "#rigol_wavegen.write(\"SOURCE1:BURSt:MODE TRIGgered\")  \n",
    "rigol_wavegen.write(\"SOUR1:BURSt:IDLE FPT\") \n",
    "rigol_wavegen.write(\"OUTP:LOAD INF\") \n",
    "'''\n",
    "rigol_scope=rm.open_resource('USB0::0x1AB1::0x04CE::DS1ZC230600493::INSTR') \n",
    "\n",
    "rigol_scope.write(\":TIMebase:SCALe 5.0E-3\")\n",
    "rigol_scope.write(\":WAVeform:SOURce CHANnel1\")\n",
    "rigol_scope.write(\":WAVeform:FORMat ASCII\")\n",
    "rigol_scope.write(\":WAVeform:POINts 1000\") \n",
    "xincr = float(rigol_scope.query(\"WAVeform:XINCrement?\")) # x-axis least count \n",
    "data = rigol_scope.query(\"WAV:DATA?\")  \n",
    "data_string = data.split(\",\")  \n",
    "#delete the first string of voltage data\n",
    "del data_string[0]    \n",
    "print(data_string)\n",
    "stop = xincr *(len(data_string))  \n",
    "time = np.arange(0,stop, xincr)   \n",
    "plt.figure(figsize=(20,20 ))\n",
    "plt.plot(time,data_string,\"ro\")  \n",
    "plt.show() \n",
    "plt.plot(time,data_string)"
   ]
  }
 ],
 "metadata": {
  "kernelspec": {
   "display_name": "Python 3",
   "language": "python",
   "name": "python3"
  },
  "language_info": {
   "codemirror_mode": {
    "name": "ipython",
    "version": 3
   },
   "file_extension": ".py",
   "mimetype": "text/x-python",
   "name": "python",
   "nbconvert_exporter": "python",
   "pygments_lexer": "ipython3",
   "version": "3.7.7"
  }
 },
 "nbformat": 4,
 "nbformat_minor": 4
}
